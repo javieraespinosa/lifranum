{
  "nbformat": 4,
  "nbformat_minor": 0,
  "metadata": {
    "colab": {
      "name": "Crawl and WARC.ipynb",
      "provenance": [],
      "collapsed_sections": [],
      "toc_visible": true,
      "authorship_tag": "ABX9TyMpGb9mdIOoVyS4d/B6xYp+",
      "include_colab_link": true
    },
    "kernelspec": {
      "display_name": "Python 3",
      "name": "python3"
    }
  },
  "cells": [
    {
      "cell_type": "markdown",
      "metadata": {
        "id": "view-in-github",
        "colab_type": "text"
      },
      "source": [
        "<a href=\"https://colab.research.google.com/github/javieraespinosa/lifranum/blob/main/Crawl_and_WARC.ipynb\" target=\"_parent\"><img src=\"https://colab.research.google.com/assets/colab-badge.svg\" alt=\"Open In Colab\"/></a>"
      ]
    },
    {
      "cell_type": "markdown",
      "metadata": {
        "id": "ic-Z2Qh-qzzt"
      },
      "source": [
        "# WGET update"
      ]
    },
    {
      "cell_type": "markdown",
      "metadata": {
        "id": "MRk1VhJ4IMbu"
      },
      "source": [
        "Updates wget to version 1.21, which includes WARC compression"
      ]
    },
    {
      "cell_type": "code",
      "metadata": {
        "id": "7Domp9Of1FaZ"
      },
      "source": [
        "TMP_DIR = \"tmp\"\n",
        "\n",
        "!mkdir {TMP_DIR}\n",
        "%cd {TMP_DIR}\n",
        "\n",
        "!wget -nv  http://ftp.gnu.org/gnu/wget/wget-1.21.tar.gz\n",
        "!tar -xzf wget-1.21.tar.gz\n",
        "\n",
        "!./wget-1.21/configure --quiet --with-ssl=openssl\n",
        "\n",
        "!make > log.txt 2>&1   \n",
        "!make install > log.txt 2>&1 \n",
        "\n",
        "%cd .."
      ],
      "execution_count": null,
      "outputs": []
    },
    {
      "cell_type": "code",
      "metadata": {
        "id": "5U0zLB9EAJ68"
      },
      "source": [
        "!rm -r {TMP_DIR} sample_data"
      ],
      "execution_count": null,
      "outputs": []
    },
    {
      "cell_type": "markdown",
      "metadata": {
        "id": "fbet548JAWGt"
      },
      "source": [
        "# Crawl & WARC"
      ]
    },
    {
      "cell_type": "code",
      "metadata": {
        "id": "DNmJ1xldz2Sr"
      },
      "source": [
        "!echo \"http://example.com\" > input.txt"
      ],
      "execution_count": null,
      "outputs": []
    },
    {
      "cell_type": "code",
      "metadata": {
        "id": "dQN0m74YFOK5"
      },
      "source": [
        "LEVEL=1\n",
        "WAIT=0.1\n",
        "\n",
        "INPUT_FILE = \"input.txt\"\n",
        "\n",
        "OUT_DIR       = \"WARC\"\n",
        "OUT_WARC_FILE = \"out\"\n",
        "OUT_LOG_FILE  = \"log.txt\""
      ],
      "execution_count": null,
      "outputs": []
    },
    {
      "cell_type": "code",
      "metadata": {
        "id": "_6ZZ3WQyrcyk"
      },
      "source": [
        "!wget \\\n",
        "  --delete-after -nd \\\n",
        "  --input-file={INPUT_FILE}  \\\n",
        "  --recursive   \\\n",
        "  --level={LEVEL}     \\\n",
        "  --no-parent   \\\n",
        "  --wait={WAIT}    \\\n",
        "  --random-wait   \\\n",
        "  --follow-tags=a \\\n",
        "  --accept html  \\\n",
        "  --adjust-extension \\\n",
        "  --user-agent=\"Mozilla/5.0 (Macintosh; Intel Mac OS X 10_15_7) AppleWebKit/605.1.15 (KHTML, like Gecko) Version/14.0 Safari/605.1.15\" \\\n",
        "  --warc-file={OUT_WARC_FILE}  \\\n",
        "  --warc-cdx=on \\\n",
        "  --warc-max-size=1G  \\\n",
        "  --no-warc-keep-log  \\\n",
        "  --output-file={OUT_LOG_FILE} \n"
      ],
      "execution_count": null,
      "outputs": []
    },
    {
      "cell_type": "code",
      "metadata": {
        "id": "QsOnwAxGfBWu"
      },
      "source": [
        "!mkdir -p {OUT_DIR} \n",
        "!mv *.warc.gz *.cdx {OUT_LOG_FILE} {OUT_DIR} \n",
        "!cp {INPUT_FILE} {OUT_DIR}\n"
      ],
      "execution_count": null,
      "outputs": []
    },
    {
      "cell_type": "code",
      "metadata": {
        "id": "jkyOatkkwn39"
      },
      "source": [
        ""
      ],
      "execution_count": null,
      "outputs": []
    }
  ]
}