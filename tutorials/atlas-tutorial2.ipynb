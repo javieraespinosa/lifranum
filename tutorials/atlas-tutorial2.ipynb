{
 "cells": [
  {
   "cell_type": "markdown",
   "id": "a2016b52",
   "metadata": {},
   "source": [
    "# WARC files metadata management using Apache Atlas"
   ]
  },
  {
   "cell_type": "markdown",
   "id": "f66c4468",
   "metadata": {},
   "source": [
    "**Web Archive** ([WARC](http://bibnum.bnf.fr/WARC/)) is a file format used by **web crawlers** to store data harvested from the Internet. A WARC file is composed of a **sequence of records**, where each record contains either a text header or a data block representing a **web resource** (cf. image below).\n",
    "\n",
    "This tutorial shows you how to use [Apache Atlas](http://atlas.apache.org/) for modelling: \n",
    "\n",
    "* WARC files and WARC records\n",
    "* Web crawling process\n",
    "\n",
    "![WARC Overview](img/warc-overview.png)\n"
   ]
  },
  {
   "cell_type": "markdown",
   "id": "d6c19ce0-f858-4a26-9e57-9a0e4de904d3",
   "metadata": {},
   "source": [
    "# WARC metadata model"
   ]
  },
  {
   "cell_type": "markdown",
   "id": "577e36ae-bcdf-436f-8bb9-139e0f2f61aa",
   "metadata": {},
   "source": [
    "Atlas models metadata using the a [type system](http://atlas.apache.org/#/TypeSystem) (i.e., metadata is modelled using or extending Atlas types).\n",
    "\n",
    "The UML class diagram below models WARC files metadata by extending two of Atlas's core types: **fs_path** and **Referenceable**. \n",
    "\n",
    "The diagram is interpreted as follows:\n",
    "\n",
    "* A **WARC_FILE** has a `name` (inherited from **Asset**), a `path` (inherited from **fs_path**), and is composed of a set of `records` collected at a specific date (`crawl_date`).\n",
    "\n",
    "\n",
    "* A **WARC_RECORD** is located at a specific position in a WARC file (`source_file_offset`) and contains a web resource conforming to a type (`content_type_norm`). For textual resources, a WARC_RECORD also stores the resource language (`content_language`).\n",
    "\n",
    "\n",
    "* **WARC_FILES** and **WARC_RECORDS** are types of ATLAS_ENTITIES. They are also uniquely identified by a `qualifiedName` (inherited from **Referenceable**).\n",
    "\n",
    "> *Remarks*:  \n",
    "> Atlas models relationships among entities using the **RELATIONSHIP** type. For instance, the relationship between **WARC_FILES** and **WARC_RECORDS** should be modelled using an extra class extending the **RELATIONSHIP** type (e.g. **WARC_FILE_RECORDS**) that connects both types. For keeping the diagram simple, this relationship is modelled using the graphical UML composite relationship. However, you will see this relationship in the model implementation below.\n"
   ]
  },
  {
   "cell_type": "markdown",
   "id": "f94b6a79-b3d9-42f5-a308-da36c3821e61",
   "metadata": {},
   "source": [
    "![Partial WARC model](img/warc-model-partial.svg)"
   ]
  },
  {
   "cell_type": "markdown",
   "id": "6678724c",
   "metadata": {},
   "source": [
    "## Model implementation"
   ]
  },
  {
   "cell_type": "markdown",
   "id": "eb16fc1a",
   "metadata": {},
   "source": [
    "The following code uses the [Atlas TypesREST API](http://atlas.apache.org/api/v2/ui/index.html#/TypesREST) for **creating the types** implementing the WARC metadata model. Namely: \n",
    "\n",
    "* `warc_file` and `warc_record` entity types\n",
    "* `warc_file_records` relationship type\n"
   ]
  },
  {
   "cell_type": "code",
   "execution_count": null,
   "id": "8853ca9a",
   "metadata": {},
   "outputs": [],
   "source": [
    "types_def = {\n",
    "    \n",
    "    \"entityDefs\" : [\n",
    "        {\n",
    "            \"name\": \"warc_file\",\n",
    "            \"superTypes\": [\"fs_path\"],\n",
    "            \"attributeDefs\": [\n",
    "                { \"name\": \"crawl_date\",  \"typeName\": \"string\",  \"isOptional\": True },\n",
    "            ],    \n",
    "        },\n",
    "        {\n",
    "            \"name\": \"warc_record\",\n",
    "            \"superTypes\": [\"Referenceable\"],\n",
    "            \"attributeDefs\": [\n",
    "                { \"name\": \"content_type_norm\",  \"typeName\": \"string\",  \"isOptional\": True },        \n",
    "                { \"name\": \"content_language\",   \"typeName\": \"string\",  \"isOptional\": True },   \n",
    "                { \"name\": \"source_file_offset\", \"typeName\": \"long\",    \"isOptional\": True },  \n",
    "            ],\n",
    "        }\n",
    "    ],\n",
    "    \n",
    "    \"relationshipDefs\": [\n",
    "        {\n",
    "            \"name\": \"warc_file_records\",    \n",
    "            \"endDef1\": {\n",
    "                \"type\": \"warc_file\",\n",
    "                \"isContainer\": True,\n",
    "                \"cardinality\": \"SET\",\n",
    "                \"name\": \"records\",        \n",
    "            },\n",
    "            \"endDef2\": {\n",
    "                \"type\": \"warc_record\",\n",
    "                \"name\": \"warc_file\",  \n",
    "\n",
    "            },\n",
    "            \"relationshipCategory\" : \"COMPOSITION\"\n",
    "        }\n",
    "    ]\n",
    "}\n",
    "\n",
    "import requests\n",
    "import json\n",
    "\n",
    "REQUEST_AUTH   = ('admin', 'admin')\n",
    "REQUEST_HEADER = { \"Content-Type\": \"application/json\", \"Accept\": \"application/json\" }\n",
    "\n",
    "req = requests.post(\n",
    "    url     = \"http://atlas:21000/api/atlas/v2/types/typedefs\", \n",
    "    auth    = REQUEST_AUTH, \n",
    "    headers = REQUEST_HEADER, \n",
    "    json    = types_def\n",
    ")\n",
    "\n",
    "# pretty print atlas response \n",
    "!echo '{req.text}' | python -m json.tool"
   ]
  },
  {
   "cell_type": "markdown",
   "id": "a57f30fe-0151-4437-b8e1-fdaa4aaa5d3c",
   "metadata": {},
   "source": [
    "## Inserting samples"
   ]
  },
  {
   "cell_type": "markdown",
   "id": "0a20d10a",
   "metadata": {},
   "source": [
    "With the types implementing the WARC model created, it is possible to insert **WARC_FILE** and **WARC_RECORD** samples (i.e., instances or entities). \n",
    "\n",
    "The following code inserts into Atlas: \n",
    "\n",
    "* 1x `warc_file` entity representing the metadata of a **fictional WARC file** uniquely identified by `warc_guid`.\n",
    "* 2x `warc_records` entities representing HTML pages contained in the WARC file identified by `warc_guid`.\n",
    "\n",
    "Note that this is done in two steps using the [Atlas EntityREST API](http://atlas.apache.org/api/v2/ui/index.html#/EntityREST).\n"
   ]
  },
  {
   "cell_type": "code",
   "execution_count": null,
   "id": "3baef2a3-b95b-4de5-b68b-39699f98e917",
   "metadata": {},
   "outputs": [],
   "source": [
    "def create_entity(entity):\n",
    "    req = requests.post(\n",
    "        url     = \"http://atlas:21000/api/atlas/v2/entity\", \n",
    "        auth    = REQUEST_AUTH, \n",
    "        headers = REQUEST_HEADER, \n",
    "        json    = { \"entity\": entity }\n",
    "    )\n",
    "    res  = json.loads( req.text )\n",
    "    guid = [res[\"guidAssignments\"][k] for k in res[\"guidAssignments\"]][0]\n",
    "    return guid\n",
    "\n",
    "\n",
    "warc = {\n",
    "    \"typeName\":   \"warc_file\",\n",
    "    \"attributes\": {\n",
    "        \"name\":          \"sample.warc\",\n",
    "        \"qualifiedName\": \"sample.warc\",         \n",
    "        \"path\":          \"/some_path/sample.warc\",\n",
    "        \"crawl_date\":    \"2021-05-27T20:58:55Z\",\n",
    "    }\n",
    "}\n",
    "\n",
    "warc_guid = create_entity(warc)\n",
    "warc_guid"
   ]
  },
  {
   "cell_type": "code",
   "execution_count": null,
   "id": "e84b30a4-8875-457d-bedf-ffcae700073e",
   "metadata": {},
   "outputs": [],
   "source": [
    "record1 = {\n",
    "    \"typeName\":   \"warc_record\",\n",
    "    \"attributes\": {\n",
    "        \"content_type_norm\": \"html\",\n",
    "        \"content_language\":  \"en\",\n",
    "        \"qualifiedName\":     \"sample.warc::1\",\n",
    "        \"source_file_offset\": 1,        \n",
    "        \"warc_file\": {\n",
    "            \"guid\": warc_guid\n",
    "        }\n",
    "    },\n",
    "}\n",
    "\n",
    "record2 = {\n",
    "    \"typeName\":   \"warc_record\",\n",
    "    \"attributes\": {\n",
    "        \"content_type_norm\": \"html\",\n",
    "        \"content_language\":  \"en\",\n",
    "        \"qualifiedName\":     \"sample.warc::2\",\n",
    "        \"source_file_offset\": 2,        \n",
    "        \"warc_file\": {\n",
    "            \"guid\": warc_guid\n",
    "        }        \n",
    "    },\n",
    "}\n",
    "\n",
    "record1_guid = create_entity(record1)\n",
    "record2_guid = create_entity(record2)\n",
    "\n",
    "print(record1_guid)\n",
    "print(record2_guid)"
   ]
  },
  {
   "cell_type": "markdown",
   "id": "b83841e6",
   "metadata": {},
   "source": [
    "### TODO\n",
    "\n",
    "* Open the [Atlas WebUI](http://localhost:21000) and explore the created entities."
   ]
  },
  {
   "cell_type": "markdown",
   "id": "9e8e8d5e",
   "metadata": {},
   "source": [
    "# Extracting metadata from WARC files"
   ]
  },
  {
   "cell_type": "markdown",
   "id": "7fa424b7-d236-49c7-9d2f-81c75e17d162",
   "metadata": {},
   "source": [
    "## Creating a WARC file"
   ]
  },
  {
   "cell_type": "markdown",
   "id": "4817b2d7",
   "metadata": {},
   "source": [
    "The following code uses `wget` for crawling and producing a WARC file from http://example.com. \n",
    "\n",
    "Note that:\n",
    "* The resources collected by `wget` (i.e., [index.html](http://example.com/index.html)) will be stored in the `example.com` directory.\n",
    "* The resulting `example.com.warc` will not be compressed for facilitating its content exploration. \n"
   ]
  },
  {
   "cell_type": "code",
   "execution_count": null,
   "id": "2c4346a7-8e5d-437a-ab0f-5a7129357bbb",
   "metadata": {},
   "outputs": [],
   "source": [
    "!wget \"http://example.com\"  \\\n",
    "    --directory-prefix=\"example.com\"  \\\n",
    "    --warc-file=\"example.com\"         \\\n",
    "    --no-warc-compression             \\\n",
    "    --no-warc-keep-log"
   ]
  },
  {
   "cell_type": "markdown",
   "id": "5c605d24",
   "metadata": {},
   "source": [
    "### TODO\n",
    "\n",
    "* How many records compose the [example.com.warc](example.com.warc) file?\n",
    "* How the content of [index.html](example.com/index.html) relates to the content of [example.com.warc](example.com.warc)?\n"
   ]
  },
  {
   "cell_type": "markdown",
   "id": "e1b4a607",
   "metadata": {},
   "source": [
    "## Metadata extraction"
   ]
  },
  {
   "cell_type": "markdown",
   "id": "5c209e26",
   "metadata": {},
   "source": [
    "[WARC Indexer](https://github.com/ukwa/webarchive-discovery) is a java application that extracts metadata from WARC files (e.g., `crawl_date`, `content_type_norm`, `content_language`, `source_file_offset`).\n",
    "\n",
    "The following instruction extracts metadata from `example.com.warc` using WARC Indexer. \n",
    "\n",
    "Note that the metadata will: \n",
    "\n",
    "* Be stored as XML files stored in the `out/example.com.warc/` directory.\n",
    "* Include the textual content (`text`) of WARC records."
   ]
  },
  {
   "cell_type": "code",
   "execution_count": null,
   "id": "f8b86cda",
   "metadata": {},
   "outputs": [],
   "source": [
    "!java -jar /jars/warc-indexer.jar --output out --disable_commit  --text  example.com.warc "
   ]
  },
  {
   "cell_type": "markdown",
   "id": "8e95a4e2",
   "metadata": {},
   "source": [
    "### TODO\n",
    "\n",
    "* Explore the [out/example.com.warc/FILE_1.xml](out/example.com.warc/FILE_1.xml) file produced by WARC indexer. \n",
    "* How many new metadata attributes do you see?\n"
   ]
  },
  {
   "cell_type": "markdown",
   "id": "dc77b288",
   "metadata": {},
   "source": [
    "## WARC model update"
   ]
  },
  {
   "cell_type": "markdown",
   "id": "a3464605",
   "metadata": {},
   "source": [
    "WARC Indexer can produce **up to 100 different metadata attributes**. The following code updates the **WARC_RECORD** type for storing all these attributes (see [warc_record_type_def.json](warc_record_type_def.json))."
   ]
  },
  {
   "cell_type": "code",
   "execution_count": null,
   "id": "abc1aaca",
   "metadata": {},
   "outputs": [],
   "source": [
    "with open('warc_record_type_def.json') as json_file:\n",
    "    warc_record_def = json.load(json_file)\n",
    "\n",
    "req = requests.put(\n",
    "    url     = \"http://atlas:21000/api/atlas/v2/types/typedefs\", \n",
    "    auth    = REQUEST_AUTH, \n",
    "    headers = REQUEST_HEADER, \n",
    "    json    = warc_record_def\n",
    ")\n",
    "\n",
    "# pretty print atlas response \n",
    "!echo '{req.text}' | python -m json.tool"
   ]
  },
  {
   "cell_type": "markdown",
   "id": "87b96b8a",
   "metadata": {},
   "source": [
    "## Metadata preparation and loading"
   ]
  },
  {
   "cell_type": "markdown",
   "id": "2c4eeb61",
   "metadata": {},
   "source": [
    "The following code transforms the metadata exported by WARC indexer to the JSON equivalent conforming to the WARC_FILE and WARC_RECORD entities."
   ]
  },
  {
   "cell_type": "code",
   "execution_count": null,
   "id": "57f0bcc1-b02c-45f8-acfa-8f13a662ac98",
   "metadata": {},
   "outputs": [],
   "source": [
    "import xmltodict\n",
    "import sys\n",
    "import glob\n",
    "\n",
    "MULTIVALUED_ATTRIBUTES = [\n",
    "    \"_text_\", \"access_terms\", \"author\", \"collection\", \"collections\", \"comments\", \"keywords\", \"license_url\", \n",
    "    \"elements_used\", \"hashes\", \"crawl_years\", \"host_surt\", \"image_colours\", \"links_images\", \"links_domains\", \n",
    "    \"links_hosts\", \"links_hosts_surts\", \"links_public_suffixes\", \"links\", \"locations\", \"parse_error\", \n",
    "    \"pdf_pdfa_errors\", \"postcode_district\", \"postcode\", \"server\", \"generator\", \"text\", \"wct_collections\", \n",
    "    \"wct_description\", \"wct_instance_id\", \"wct_subjects\"\n",
    "]\n",
    "\n",
    "def xml_to_dict(xml):\n",
    "    obj = {}\n",
    "    xmldict = xmltodict.parse( xml )\n",
    "    for field in xmldict['doc']['field']:\n",
    "        att = field['@name']\n",
    "        val = field['#text']\n",
    "        if att not in obj:\n",
    "            obj[att] = [] if att in MULTIVALUED_ATTRIBUTES else None\n",
    "        if obj[att] == None:\n",
    "            obj[att] = val\n",
    "        else:\n",
    "            obj[att].append(val)\n",
    "    return obj"
   ]
  },
  {
   "cell_type": "code",
   "execution_count": null,
   "id": "e36b05e5-9b1f-4ab2-b262-79876e8f8ed3",
   "metadata": {},
   "outputs": [],
   "source": [
    "import os\n",
    "\n",
    "warc_name = \"example.com.warc\"\n",
    "\n",
    "warc = {\n",
    "    \"typeName\":   \"warc_file\",\n",
    "    \"attributes\": {\n",
    "        \"name\":          warc_name,\n",
    "        \"qualifiedName\": warc_name,         \n",
    "        \"path\":          \"{}/{}\".format( os.getcwd(), warc_name ),\n",
    "        \"crawl_date\":    \"2021-05-27T20:58:55Z\",\n",
    "    }\n",
    "}\n",
    "\n",
    "warc_guid = create_entity(warc)\n",
    "warc_guid\n",
    "\n",
    "for file_path in glob.iglob('out/**/*.xml', recursive=True):\n",
    "    \n",
    "    with open(file_path, 'r') as file:\n",
    "        atts = xml_to_dict( file.read() )\n",
    "    \n",
    "    record = {\n",
    "        \"typeName\":   \"warc_record\",\n",
    "        \"attributes\": atts\n",
    "    }\n",
    "    \n",
    "    record[\"attributes\"][\"qualifiedName\"] = \"{}::{}\".format( warc_name, record[\"attributes\"][\"source_file_offset\"] )\n",
    "    record[\"attributes\"][\"warc_file\"]     = { \"guid\": warc_guid }\n",
    "        \n",
    "    create_entity(record)"
   ]
  },
  {
   "cell_type": "markdown",
   "id": "362d70ab",
   "metadata": {},
   "source": [
    "# Crawling process modelling"
   ]
  },
  {
   "cell_type": "markdown",
   "id": "39744f73",
   "metadata": {},
   "source": [
    "Atlas models processes using the **Process** type.\n",
    "\n",
    "The diagram below extends the original WARC metadata diagram for modelling a **crawling process**. The diagram is interpreted as follows:\n",
    "\n",
    "* The **CRAWLING_PROCESS** that receives a list of `urls` as parameters and `outputs` a set of **WARC_FILEs**. It also stores information about the `crawler_version` used for crawling the `urls`.\n",
    "\n",
    "> Note that the **CRAWLING_PROCESS** does not receive any `inputs`. This is a modelling choice for avoiding the representation of input urls as **DataSets**. For instance, for avoiding the creation of a new type _CRAWLING_INPUT_, subtype of DataSet.\n"
   ]
  },
  {
   "cell_type": "markdown",
   "id": "8044edd5-7ab3-40b3-b66a-6601c133aa56",
   "metadata": {},
   "source": [
    "![WARC Model](img/warc-model.svg)"
   ]
  },
  {
   "cell_type": "markdown",
   "id": "79ca7bb6",
   "metadata": {},
   "source": [
    "The following code implements the **CRAWLING_PROCESS** model and creates a new crawling entity for representing the process that produced the `example.com.warc` file."
   ]
  },
  {
   "cell_type": "code",
   "execution_count": null,
   "id": "0ac892c2",
   "metadata": {},
   "outputs": [],
   "source": [
    "types_def = {\n",
    "    \n",
    "    \"entityDefs\" : [\n",
    "        {\n",
    "            \"name\": \"crawling_process\",\n",
    "            \"superTypes\": [\"Process\"],\n",
    "            \"attributeDefs\": [\n",
    "                { \"name\": \"urls\",          \"typeName\": \"array<string>\",  \"isOptional\": False },\n",
    "                { \"name\": \"crawler_info\",  \"typeName\": \"string\",         \"isOptional\": False },                \n",
    "            ],    \n",
    "        },\n",
    "    ],\n",
    "}\n",
    "\n",
    "req = requests.post(\n",
    "    url     = \"http://atlas:21000/api/atlas/v2/types/typedefs\", \n",
    "    auth    = REQUEST_AUTH, \n",
    "    headers = REQUEST_HEADER, \n",
    "    json    = types_def\n",
    ")"
   ]
  },
  {
   "cell_type": "code",
   "execution_count": null,
   "id": "1c692eaf",
   "metadata": {},
   "outputs": [],
   "source": [
    "crawler_info = !wget --version\n",
    "\n",
    "process = {\n",
    "    \"typeName\":   \"crawling_process\",\n",
    "    \"attributes\": {\n",
    "        \"urls\":          [ \"http://example.com\" ],\n",
    "        \"outputs\":       [{ \"guid\": warc_guid  }],\n",
    "        \"crawler_info\":  crawler_info[0],\n",
    "        \"name\":          \"crawling 2021-05-27\",\n",
    "        \"qualifiedName\": \"crawling:2021-05-27T20:58:55Z\",\n",
    "    }\n",
    "}\n",
    "\n",
    "create_entity(process)"
   ]
  },
  {
   "cell_type": "markdown",
   "id": "b42bc36e",
   "metadata": {},
   "source": [
    "### TODO\n",
    "\n",
    "* Use the [Atlas WebUI](http://localhost:21000) to explore the `crawling 2021-05-27` process **lineage graph**."
   ]
  },
  {
   "cell_type": "markdown",
   "id": "8b8c59db",
   "metadata": {},
   "source": [
    "# Play around with your own URL"
   ]
  },
  {
   "cell_type": "markdown",
   "id": "af4e72dc",
   "metadata": {},
   "source": [
    "**Step 1.** Set a URL"
   ]
  },
  {
   "cell_type": "code",
   "execution_count": null,
   "id": "39a2e030",
   "metadata": {},
   "outputs": [],
   "source": [
    "URL   = \"https://projet-lifranum.univ-lyon3.fr/projet\""
   ]
  },
  {
   "cell_type": "markdown",
   "id": "310e5171",
   "metadata": {},
   "source": [
    "**Step 2.** Crawl the target URL"
   ]
  },
  {
   "cell_type": "code",
   "execution_count": null,
   "id": "1f61f5f5",
   "metadata": {},
   "outputs": [],
   "source": [
    "from urllib.parse import urlparse\n",
    "\n",
    "LEVEL = 1        # maximum number of links to follow (i.e, crawl depth)\n",
    "WAIT  = 0.1      # num. seconds to wait between consecutive calls \n",
    "\n",
    "domain = urlparse(URL).netloc\n",
    "\n",
    "!wget {URL}           \\\n",
    "  --delete-after -nd  \\\n",
    "  --recursive         \\\n",
    "  --level={LEVEL}     \\\n",
    "  --wait={WAIT}       \\\n",
    "  --random-wait       \\\n",
    "  --no-parent         \\\n",
    "  --follow-tags=a     \\\n",
    "  --adjust-extension  \\\n",
    "  --warc-file={domain}\\\n",
    "  --no-warc-keep-log"
   ]
  },
  {
   "cell_type": "markdown",
   "id": "39deaaff",
   "metadata": {},
   "source": [
    "**Step 3.** Extract WARC metadata"
   ]
  },
  {
   "cell_type": "code",
   "execution_count": null,
   "id": "32f0e236",
   "metadata": {},
   "outputs": [],
   "source": [
    "warc_name = domain + \".warc.gz\"\n",
    "\n",
    "!java -jar /jars/warc-indexer.jar --output out --disable_commit  --text  {warc_name}"
   ]
  },
  {
   "cell_type": "markdown",
   "id": "c5e857dc",
   "metadata": {},
   "source": [
    "**Step 4.** Load metadata into Atlas\n",
    "\n"
   ]
  },
  {
   "cell_type": "code",
   "execution_count": null,
   "id": "c7f67ff4",
   "metadata": {},
   "outputs": [],
   "source": [
    "from datetime import datetime\n",
    "\n",
    "warc = {\n",
    "    \"typeName\":   \"warc_file\",\n",
    "    \"attributes\": {\n",
    "        \"name\":          warc_name,\n",
    "        \"qualifiedName\": warc_name,         \n",
    "        \"path\":          \"{}/{}\".format( os.getcwd(), warc_name ),\n",
    "        \"crawl_date\":    datetime.now().strftime(\"%m-%d-%YT%H:%M:%S\"),\n",
    "    }\n",
    "}\n",
    "\n",
    "warc_guid = create_entity(warc)\n",
    "print(\"WARC_FILE: \" + warc_guid)\n",
    "\n",
    "for file_path in glob.iglob('out/{}/*.xml'.format(warc_name)):\n",
    "    \n",
    "    with open(file_path, 'r') as file:\n",
    "        atts = xml_to_dict( file.read() )\n",
    "    \n",
    "    record = {\n",
    "        \"typeName\":   \"warc_record\",\n",
    "        \"attributes\": atts\n",
    "    }\n",
    "    \n",
    "    record[\"attributes\"][\"qualifiedName\"] = \"{}::{}\".format( warc_name, record[\"attributes\"][\"source_file_offset\"] )\n",
    "    record[\"attributes\"][\"warc_file\"]     = { \"guid\": warc_guid }\n",
    "        \n",
    "    record_guid = create_entity(record)\n",
    "    print(' ', \"WARC_RECORD: \" + record_guid)\n",
    "\n",
    "    \n",
    "crawler_info = !wget\n",
    "\n",
    "process = {\n",
    "    \"typeName\":   \"crawling_process\",\n",
    "    \"attributes\": {\n",
    "        \"urls\":          [ URL ],\n",
    "        \"outputs\":       [{ \"guid\": warc_guid  }],\n",
    "        \"crawler_info\":  crawler_info[0],\n",
    "        \"name\":          \"crawling {}\".format(warc['attributes']['crawl_date']),\n",
    "        \"qualifiedName\": \"crawling:{}\".format(warc['attributes']['crawl_date']),\n",
    "    }\n",
    "}\n",
    "\n",
    "\n",
    "crawling_guid = create_entity(process)\n",
    "\n",
    "print(' ', \"CRAWLING_PROCESS: \" + crawling_guid)     \n"
   ]
  },
  {
   "cell_type": "markdown",
   "id": "d0a6a856",
   "metadata": {},
   "source": [
    "**Step 5.** Explore the [Atlas WebUI](http://localhost:21000)"
   ]
  }
 ],
 "metadata": {
  "kernelspec": {
   "display_name": "Python 3 (ipykernel)",
   "language": "python",
   "name": "python3"
  },
  "language_info": {
   "codemirror_mode": {
    "name": "ipython",
    "version": 3
   },
   "file_extension": ".py",
   "mimetype": "text/x-python",
   "name": "python",
   "nbconvert_exporter": "python",
   "pygments_lexer": "ipython3",
   "version": "3.9.6"
  }
 },
 "nbformat": 4,
 "nbformat_minor": 5
}
