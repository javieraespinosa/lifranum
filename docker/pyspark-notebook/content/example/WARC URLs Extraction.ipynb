{
 "cells": [
  {
   "cell_type": "code",
   "execution_count": null,
   "id": "blind-horizontal",
   "metadata": {},
   "outputs": [],
   "source": [
    "import pyspark\n",
    "from pyspark.sql import SQLContext"
   ]
  },
  {
   "cell_type": "code",
   "execution_count": null,
   "id": "designing-palestine",
   "metadata": {},
   "outputs": [],
   "source": [
    "sc = pyspark.SparkContext.getOrCreate()\n",
    "sqlContext = SQLContext(sc)"
   ]
  },
  {
   "cell_type": "code",
   "execution_count": null,
   "id": "sublime-surgery",
   "metadata": {},
   "outputs": [],
   "source": [
    "sc"
   ]
  },
  {
   "cell_type": "code",
   "execution_count": null,
   "id": "liked-letters",
   "metadata": {},
   "outputs": [],
   "source": [
    "WARCs_PATH=\"*.warc.gz\""
   ]
  },
  {
   "cell_type": "code",
   "execution_count": null,
   "id": "canadian-bahamas",
   "metadata": {},
   "outputs": [],
   "source": [
    "from pyspark.sql.functions import udf\n",
    "\n",
    "url_correction = udf(lambda s: s[1:-1] if len(s) > 0 and s[0] == '<' and s[-1] == '>' else s)"
   ]
  },
  {
   "cell_type": "code",
   "execution_count": null,
   "id": "369a3231",
   "metadata": {},
   "outputs": [],
   "source": [
    "# Temporal folder for CSV files containing partial results\n",
    "OUTPUT_PATH=\"full-links-all/\""
   ]
  },
  {
   "cell_type": "code",
   "execution_count": null,
   "id": "connected-region",
   "metadata": {},
   "outputs": [],
   "source": [
    "from aut import *\n",
    "from pyspark.sql.functions import desc, col\n",
    "\n",
    "WebArchive(sc, sqlContext, WARCs_PATH) \\\n",
    "  .webpages() \\\n",
    "  .withColumn(\"url\", url_correction(\"url\")) \\\n",
    "  .select(\"url\") \\\n",
    "  .select(remove_prefix_www(extract_domain(col(\"url\"))).alias(\"domain\"), 'url') \\\n",
    "  .groupBy(\"domain\", \"url\") \\\n",
    "  .count() \\\n",
    "  .sort(desc(\"count\")) \\\n",
    "  .write.csv(OUTPUT_PATH)\n"
   ]
  },
  {
   "cell_type": "code",
   "execution_count": null,
   "id": "6bf90c14",
   "metadata": {},
   "outputs": [],
   "source": [
    "# Create a single CSV with partial results \n",
    "!cat \"$OUTPUT_PATH\"/*.csv > full-links-all.csv"
   ]
  },
  {
   "cell_type": "code",
   "execution_count": null,
   "id": "5f7617d9",
   "metadata": {},
   "outputs": [],
   "source": [
    "# Delete temporal folder\n",
    "!rm -r \"$OUTPUT_PATH\""
   ]
  },
  {
   "cell_type": "code",
   "execution_count": null,
   "id": "d6abcab0",
   "metadata": {},
   "outputs": [],
   "source": []
  }
 ],
 "metadata": {
  "kernelspec": {
   "display_name": "Python 3",
   "language": "python",
   "name": "python3"
  },
  "language_info": {
   "codemirror_mode": {
    "name": "ipython",
    "version": 3
   },
   "file_extension": ".py",
   "mimetype": "text/x-python",
   "name": "python",
   "nbconvert_exporter": "python",
   "pygments_lexer": "ipython3",
   "version": "3.8.8"
  }
 },
 "nbformat": 4,
 "nbformat_minor": 5
}
