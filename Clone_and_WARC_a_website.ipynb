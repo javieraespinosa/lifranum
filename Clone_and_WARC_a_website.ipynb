{
  "nbformat": 4,
  "nbformat_minor": 0,
  "metadata": {
    "colab": {
      "name": "Clone and WARC a website.ipynb",
      "provenance": [],
      "authorship_tag": "ABX9TyM9iErQPVXiLahvkONQX7gj",
      "include_colab_link": true
    },
    "kernelspec": {
      "name": "python3",
      "display_name": "Python 3"
    }
  },
  "cells": [
    {
      "cell_type": "markdown",
      "metadata": {
        "id": "view-in-github",
        "colab_type": "text"
      },
      "source": [
        "<a href=\"https://colab.research.google.com/github/javieraespinosa/lifranum/blob/main/Clone_and_WARC_a_website.ipynb\" target=\"_parent\"><img src=\"https://colab.research.google.com/assets/colab-badge.svg\" alt=\"Open In Colab\"/></a>"
      ]
    },
    {
      "cell_type": "code",
      "metadata": {
        "id": "qjeoBa0WyEX0"
      },
      "source": [
        "!rm -r /content/*"
      ],
      "execution_count": null,
      "outputs": []
    },
    {
      "cell_type": "code",
      "metadata": {
        "id": "DNmJ1xldz2Sr"
      },
      "source": [
        "URL=\"http://carnets-haijin.blogspot.com/\" "
      ],
      "execution_count": null,
      "outputs": []
    },
    {
      "cell_type": "code",
      "metadata": {
        "id": "Uew1uCEGB5mr",
        "outputId": "d125006c-d510-44dc-f80d-7b4c72f99d78",
        "colab": {
          "base_uri": "https://localhost:8080/"
        }
      },
      "source": [
        "!wget \\\n",
        "    --mirror \\\n",
        "    --page-requisites \\\n",
        "    --convert-links \\\n",
        "    --adjust-extension \\\n",
        "    --no-parent \\\n",
        "    --no-verbose \\\n",
        "    --user-agent=\"Mozilla/5.0 (Macintosh; Intel Mac OS X 10_15_7) AppleWebKit/605.1.15 (KHTML, like Gecko) Version/14.0 Safari/605.1.15\" \\\n",
        "    --no-warc-keep-log \\\n",
        "    --warc-file=\"wget-out\" \\\n",
        "    --warc-max-size=1G \\\n",
        "    --output-file=logfile.txt \\\n",
        "    {URL}\n",
        "\n"
      ],
      "execution_count": null,
      "outputs": [
        {
          "output_type": "stream",
          "text": [
            "WARC output does not work with timestamping, timestamping will be disabled.\n"
          ],
          "name": "stdout"
        }
      ]
    },
    {
      "cell_type": "code",
      "metadata": {
        "id": "lHO0xSTn4TFD"
      },
      "source": [
        "!zip -rq wget-out.zip dreamlands-virtual-tour.blogspot.com"
      ],
      "execution_count": null,
      "outputs": []
    },
    {
      "cell_type": "code",
      "metadata": {
        "id": "G8eoNsQxpP-Y"
      },
      "source": [
        "!zip -rq wget-out.warc.zip wget-out-meta.warc wget-out-00000.warc"
      ],
      "execution_count": null,
      "outputs": []
    },
    {
      "cell_type": "code",
      "metadata": {
        "id": "lJfomzOzDUof"
      },
      "source": [
        ""
      ],
      "execution_count": null,
      "outputs": []
    }
  ]
}