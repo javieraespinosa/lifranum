{
  "nbformat": 4,
  "nbformat_minor": 0,
  "metadata": {
    "colab": {
      "name": "WARC URLs Extraction.ipynb",
      "provenance": [],
      "collapsed_sections": [],
      "toc_visible": true,
      "mount_file_id": "13IZl0RZXNuWcbJ88y23AZ9W43E-Fn72a",
      "authorship_tag": "ABX9TyNZMilmW14s9Qd0ITKfc/xb",
      "include_colab_link": true
    },
    "kernelspec": {
      "display_name": "Python 3",
      "name": "python3"
    }
  },
  "cells": [
    {
      "cell_type": "markdown",
      "metadata": {
        "id": "view-in-github",
        "colab_type": "text"
      },
      "source": [
        "<a href=\"https://colab.research.google.com/github/javieraespinosa/lifranum/blob/main/WARC_URLs_Extraction.ipynb\" target=\"_parent\"><img src=\"https://colab.research.google.com/assets/colab-badge.svg\" alt=\"Open In Colab\"/></a>"
      ]
    },
    {
      "cell_type": "markdown",
      "metadata": {
        "id": "unYwCwjvg_Ct"
      },
      "source": [
        "# Configuration"
      ]
    },
    {
      "cell_type": "markdown",
      "metadata": {
        "id": "FJ-gJ-tsPg5z"
      },
      "source": [
        "Requirements:\n",
        "https://aut.docs.archivesunleashed.org/docs/dependencies\n"
      ]
    },
    {
      "cell_type": "code",
      "metadata": {
        "id": "Y3sdVnqmgGOZ"
      },
      "source": [
        "import os"
      ],
      "execution_count": 1,
      "outputs": []
    },
    {
      "cell_type": "code",
      "metadata": {
        "id": "F08YfGw-HBCw"
      },
      "source": [
        "SPARK_VERSION = \"spark-2.4.7-bin-hadoop2.7\"\n",
        "AUT_VERSION   = \"aut-0.80.0\"\n",
        "APPS_HOME     = os.getcwd() + \"/apps\""
      ],
      "execution_count": 2,
      "outputs": []
    },
    {
      "cell_type": "code",
      "metadata": {
        "id": "YADoCV7A2pWF"
      },
      "source": [
        "!apt-get install openjdk-8-jdk-headless -qq > /dev/null\n",
        "!pip install -q findspark"
      ],
      "execution_count": 3,
      "outputs": []
    },
    {
      "cell_type": "code",
      "metadata": {
        "id": "bKBNWTBU3fC6"
      },
      "source": [
        "!mkdir -p \"$APPS_HOME\"\n",
        "\n",
        "!wget -q https://archive.apache.org/dist/spark/spark-2.4.7/\"$SPARK_VERSION\".tgz\n",
        "!wget -q https://github.com/archivesunleashed/aut/releases/download/\"$AUT_VERSION\"/\"$AUT_VERSION\".zip\n",
        "!wget -q https://github.com/archivesunleashed/aut/releases/download/\"$AUT_VERSION\"/\"$AUT_VERSION\"-fatjar.jar\n",
        "!tar -xf \"$SPARK_VERSION\".tgz\n",
        "!mv spark-* aut-* \"$APPS_HOME\"\n",
        "\n",
        "!wget -q https://bin.equinox.io/c/4VmDzA7iaHb/ngrok-stable-linux-amd64.zip\n",
        "!unzip -qq ngrok-stable-linux-amd64.zip\n",
        "!mv ngrok* \"$APPS_HOME\"\n",
        "\n",
        "!rm -rf sample_data"
      ],
      "execution_count": 4,
      "outputs": []
    },
    {
      "cell_type": "code",
      "metadata": {
        "id": "Ge5UOwQJIDjs"
      },
      "source": [
        "import os\n",
        "import findspark\n",
        "\n",
        "SPARK_DRIVER_MEMORY   = \"8g\"\n",
        "\n",
        "os.environ[\"JAVA_HOME\"]  = \"/usr/lib/jvm/java-8-openjdk-amd64\"\n",
        "os.environ[\"SPARK_HOME\"] = \"{}/{}\".format(APPS_HOME, SPARK_VERSION)   \n",
        "os.environ['PYSPARK_SUBMIT_ARGS'] = '--driver-memory {0} --jars {2}/{1}-fatjar.jar --py-files {2}/{1}.zip pyspark-shell'.format(SPARK_DRIVER_MEMORY, AUT_VERSION, APPS_HOME)\n",
        "\n",
        "findspark.init()"
      ],
      "execution_count": 5,
      "outputs": []
    },
    {
      "cell_type": "code",
      "metadata": {
        "id": "gb-ED0zhZyGt"
      },
      "source": [
        "import pyspark\n",
        "from pyspark.sql import SQLContext\n",
        "\n",
        "conf = pyspark.SparkConf().set(\"spark.ui.port\", \"4050\")\n",
        "\n",
        "sc = pyspark.SparkContext.getOrCreate(conf)\n",
        "sqlContext = SQLContext(sc)"
      ],
      "execution_count": 6,
      "outputs": []
    },
    {
      "cell_type": "code",
      "metadata": {
        "id": "S0Y_CSDAWDaU",
        "colab": {
          "base_uri": "https://localhost:8080/",
          "height": 193
        },
        "outputId": "d616f29a-768f-41cf-a5e5-6ea3c43be2f4"
      },
      "source": [
        "sc"
      ],
      "execution_count": 7,
      "outputs": [
        {
          "output_type": "execute_result",
          "data": {
            "text/html": [
              "\n",
              "        <div>\n",
              "            <p><b>SparkContext</b></p>\n",
              "\n",
              "            <p><a href=\"http://32a32833e4bc:4050\">Spark UI</a></p>\n",
              "\n",
              "            <dl>\n",
              "              <dt>Version</dt>\n",
              "                <dd><code>v2.4.7</code></dd>\n",
              "              <dt>Master</dt>\n",
              "                <dd><code>local[*]</code></dd>\n",
              "              <dt>AppName</dt>\n",
              "                <dd><code>pyspark-shell</code></dd>\n",
              "            </dl>\n",
              "        </div>\n",
              "        "
            ],
            "text/plain": [
              "<SparkContext master=local[*] appName=pyspark-shell>"
            ]
          },
          "metadata": {
            "tags": []
          },
          "execution_count": 7
        }
      ]
    },
    {
      "cell_type": "markdown",
      "metadata": {
        "id": "kwKYiQNWYR4X"
      },
      "source": [
        "## Bug: Correcting URLS in Wget's WARCs"
      ]
    },
    {
      "cell_type": "code",
      "metadata": {
        "id": "i3jbwFILYThE"
      },
      "source": [
        "from pyspark.sql.functions import udf\n",
        "\n",
        "url_correction = udf(lambda s: s[1:-1] if len(s) > 0 and s[0] == '<' and s[-1] == '>' else s)"
      ],
      "execution_count": 9,
      "outputs": []
    },
    {
      "cell_type": "markdown",
      "metadata": {
        "id": "Yj54c5TrthLu"
      },
      "source": [
        "# Extracting web pages's URLs from WARCs files"
      ]
    },
    {
      "cell_type": "code",
      "metadata": {
        "id": "QieEJ_d8U0Vq"
      },
      "source": [
        "WARCs_PATH=\"/content/drive/MyDrive/LIFRANUM-DRIVE/jecritures.blogspot.com-H-L1/out-00000.warc.gz\""
      ],
      "execution_count": 16,
      "outputs": []
    },
    {
      "cell_type": "code",
      "metadata": {
        "id": "qQ-wUsIIaMq4"
      },
      "source": [
        "# Temporal folder for CSV files containing partial results\n",
        "OUTPUT_PATH=\"full-links-all/\""
      ],
      "execution_count": 37,
      "outputs": []
    },
    {
      "cell_type": "code",
      "metadata": {
        "id": "5qRhNrI-amJQ"
      },
      "source": [
        "from aut import *\n",
        "from pyspark.sql.functions import desc, col\n",
        "\n",
        "WebArchive(sc, sqlContext, WARCs_PATH) \\\n",
        "  .webpages() \\\n",
        "  .withColumn(\"url\", url_correction(\"url\")) \\\n",
        "  .select(\"url\") \\\n",
        "  .select(remove_prefix_www(extract_domain(col(\"url\"))).alias(\"domain\"), 'url') \\\n",
        "  .groupBy(\"domain\", \"url\") \\\n",
        "  .count() \\\n",
        "  .sort(desc(\"count\")) \\\n",
        "  .write.csv(OUTPUT_PATH)\n"
      ],
      "execution_count": 38,
      "outputs": []
    },
    {
      "cell_type": "code",
      "metadata": {
        "id": "twPqbY3hYckj"
      },
      "source": [
        "# Create a single CSV with partial results \n",
        "!cat \"$OUTPUT_PATH\"/*.csv > full-links-all.csv"
      ],
      "execution_count": 39,
      "outputs": []
    },
    {
      "cell_type": "code",
      "metadata": {
        "id": "XZkXwATVXYtw"
      },
      "source": [
        "# Delete temporal folder\n",
        "!rm -r \"$OUTPUT_PATH\""
      ],
      "execution_count": 40,
      "outputs": []
    },
    {
      "cell_type": "code",
      "metadata": {
        "id": "dPCpO4hYarlX"
      },
      "source": [
        ""
      ],
      "execution_count": null,
      "outputs": []
    }
  ]
}